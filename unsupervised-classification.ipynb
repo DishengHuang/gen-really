{
 "cells": [
  {
   "cell_type": "code",
   "execution_count": 212,
   "metadata": {},
   "outputs": [],
   "source": [
    "%matplotlib inline\n",
    "\n",
    "import numpy as np\n",
    "import pandas as pd\n",
    "import matplotlib.pyplot as plt\n",
    "from sklearn.cluster import KMeans\n",
    "from sklearn.utils import shuffle\n",
    "\n",
    "from DataManager import getTrackData, getGenreData, getFeatureData, getEchonestData"
   ]
  },
  {
   "cell_type": "code",
   "execution_count": 28,
   "metadata": {},
   "outputs": [],
   "source": [
    "# Load The Data\n",
    "\n",
    "data_location = 'fma_metadata'\n",
    "\n",
    "genres = getGenreData()\n",
    "tracks = getTrackData()\n",
    "\n",
    "echonest = getEchonestData().echonest"
   ]
  },
  {
   "cell_type": "code",
   "execution_count": 118,
   "metadata": {},
   "outputs": [],
   "source": [
    "# Calculate the Genres of Artists\n",
    "#   Genres are calculated based off of the top_genre of the tracks\n",
    "#   The artist genre is the most common genre that they release\n",
    "\n",
    "artist_genres_raw = pd.concat(\n",
    "    [tracks['artist']['name'], tracks['track']['genre_top']],\n",
    "    axis=1, keys=['artist_name', 'genre']\n",
    ")\n",
    "\n",
    "artist_genres_raw.dropna(inplace=True)\n",
    "\n",
    "# Get a count of all the track genres that an artist created\n",
    "artist_genres = artist_genres_raw.groupby(['artist_name', 'genre'] , sort=False).size().reset_index(name='song_count')\n",
    "artist_genres.sort_values(by=['artist_name', 'song_count', 'genre'], ascending=False, inplace=True)\n",
    "\n",
    "# Get the most common genre that an artist created\n",
    "indecies = artist_genres.groupby('artist_name', sort=False)['song_count'].transform(max) == artist_genres['song_count']\n",
    "artist_genres = artist_genres[indecies]\n",
    "\n",
    "artist_genres.drop(columns=['song_count'], inplace=True)\n",
    "artist_genres.set_index('artist_name', inplace=True)\n",
    "\n",
    "# Create a genre lookup table for the artists\n",
    "artist_genre_lookup = artist_genres.to_dict()['genre']"
   ]
  },
  {
   "cell_type": "code",
   "execution_count": 177,
   "metadata": {},
   "outputs": [
    {
     "data": {
      "image/png": "[encoded data removed]",
      "text/plain": [
       "<Figure size 432x288 with 1 Axes>"
      ]
     },
     "metadata": {
      "needs_background": "light"
     },
     "output_type": "display_data"
    }
   ],
   "source": [
    "# Plot the number of artists in the top genres\n",
    "\n",
    "artist_genre_counts = artist_genres['genre'].value_counts().reset_index()\n",
    "artist_genre_counts.columns = ['genre', 'artist_count']\n",
    "\n",
    "plt.bar(artist_genre_counts['genre'], artist_genre_counts['artist_count'])\n",
    "plt.xticks(rotation='vertical')\n",
    "plt.title('Number Of Artists Per Genre')\n",
    "plt.xlabel('Genres')\n",
    "plt.ylabel('Number of Artists')\n",
    "plt.show()"
   ]
  },
  {
   "cell_type": "code",
   "execution_count": 217,
   "metadata": {},
   "outputs": [],
   "source": [
    "# Clean the echonest data for unsupervised training\n",
    "# Note: this step reduces the dataset from 13129 to 9259 for the genre labels\n",
    "\n",
    "echonest_features = echonest.audio_features.copy()\n",
    "echonest_artist_names = echonest.metadata.artist_name\n",
    "\n",
    "# Get the genres for all the tracks in the echonest dataset\n",
    "genre_lookup = lambda artist: artist_genre_lookup[artist] if artist in artist_genre_lookup else np.nan\n",
    "echonest_features['genres'] = echonest_artist_names.apply(genre_lookup)\n",
    "\n",
    "echonest_features.dropna(inplace=True)\n",
    "echonest_features = shuffle(echonest_features) # Shuffle to ensure even training"
   ]
  },
  {
   "cell_type": "code",
   "execution_count": 222,
   "metadata": {},
   "outputs": [],
   "source": [
    "# Create the training and validation data sets\n",
    "feature_len = len(echonest_features)\n",
    "train_size = 0.8\n",
    "\n",
    "training_data = echonest_features[training_features][0:int(feature_len * train_size)].values\n",
    "validation_data = echonest_features[training_features][int(feature_len * train_size):len(echonest_features)].values"
   ]
  },
  {
   "cell_type": "code",
   "execution_count": 223,
   "metadata": {},
   "outputs": [],
   "source": [
    "# Create the clustering in the echonest data set\n",
    "training_features = ['acousticness', 'danceability', 'energy',\n",
    "    'instrumentalness', 'liveness', 'speechiness', 'tempo', 'valence']\n",
    "\n",
    "kmeans = KMeans(n_clusters=len(artist_genre_counts)).fit(training_data)"
   ]
  }
 ],
 "metadata": {
  "kernelspec": {
   "display_name": "Python 3",
   "language": "python",
   "name": "python3"
  },
  "language_info": {
   "codemirror_mode": {
    "name": "ipython",
    "version": 3
   },
   "file_extension": ".py",
   "mimetype": "text/x-python",
   "name": "python",
   "nbconvert_exporter": "python",
   "pygments_lexer": "ipython3",
   "version": "3.6.5"
  }
 },
 "nbformat": 4,
 "nbformat_minor": 2
}
